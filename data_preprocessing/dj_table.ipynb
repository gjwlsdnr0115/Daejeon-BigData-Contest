{
 "cells": [
  {
   "cell_type": "code",
   "execution_count": 1,
   "metadata": {},
   "outputs": [],
   "source": [
    "import pandas as pd \n",
    "import numpy as np"
   ]
  },
  {
   "cell_type": "markdown",
   "metadata": {},
   "source": [
    "### 데이터\n",
    "1. 유동인구 대비 거주인구 12-18시\n",
    "2. 유동인구 대비 거주인구 21-03시\n",
    "3. 면적대비 cctv수  \n",
    "4. 면적대비 성범죄자수 \n",
    "5. 유흥업종 카드소비 \n",
    "6. 유흥+일반음식점 카드소비\n",
    "7. 여성 1인가구수"
   ]
  },
  {
   "cell_type": "code",
   "execution_count": 25,
   "metadata": {},
   "outputs": [],
   "source": [
    "xls = pd.ExcelFile('보정_동별유흥매출액.xlsx')\n",
    "df_5 = pd.read_excel(xls, '유흥합계',usecols = ['행정동','매출액'])\n",
    "df_6 = pd.read_excel(xls, '유흥+일반음식점합계',usecols = ['행정동','매출액'])"
   ]
  },
  {
   "cell_type": "code",
   "execution_count": 26,
   "metadata": {},
   "outputs": [
    {
     "data": {
      "text/html": [
       "<div>\n",
       "<style scoped>\n",
       "    .dataframe tbody tr th:only-of-type {\n",
       "        vertical-align: middle;\n",
       "    }\n",
       "\n",
       "    .dataframe tbody tr th {\n",
       "        vertical-align: top;\n",
       "    }\n",
       "\n",
       "    .dataframe thead th {\n",
       "        text-align: right;\n",
       "    }\n",
       "</style>\n",
       "<table border=\"1\" class=\"dataframe\">\n",
       "  <thead>\n",
       "    <tr style=\"text-align: right;\">\n",
       "      <th></th>\n",
       "      <th>행정동</th>\n",
       "      <th>매출액</th>\n",
       "    </tr>\n",
       "  </thead>\n",
       "  <tbody>\n",
       "    <tr>\n",
       "      <th>0</th>\n",
       "      <td>온천1동</td>\n",
       "      <td>2.132155e+10</td>\n",
       "    </tr>\n",
       "    <tr>\n",
       "      <th>1</th>\n",
       "      <td>둔산2동</td>\n",
       "      <td>6.185198e+09</td>\n",
       "    </tr>\n",
       "    <tr>\n",
       "      <th>2</th>\n",
       "      <td>대흥동</td>\n",
       "      <td>5.434868e+09</td>\n",
       "    </tr>\n",
       "    <tr>\n",
       "      <th>3</th>\n",
       "      <td>탄방동</td>\n",
       "      <td>5.421049e+09</td>\n",
       "    </tr>\n",
       "    <tr>\n",
       "      <th>4</th>\n",
       "      <td>신탄진동</td>\n",
       "      <td>4.258149e+09</td>\n",
       "    </tr>\n",
       "  </tbody>\n",
       "</table>\n",
       "</div>"
      ],
      "text/plain": [
       "    행정동           매출액\n",
       "0  온천1동  2.132155e+10\n",
       "1  둔산2동  6.185198e+09\n",
       "2   대흥동  5.434868e+09\n",
       "3   탄방동  5.421049e+09\n",
       "4  신탄진동  4.258149e+09"
      ]
     },
     "execution_count": 26,
     "metadata": {},
     "output_type": "execute_result"
    }
   ],
   "source": [
    "df_5.head()"
   ]
  },
  {
   "cell_type": "code",
   "execution_count": 27,
   "metadata": {},
   "outputs": [],
   "source": [
    "df_5.rename(columns = {'매출액' : '유흥매출액'},inplace=True)\n",
    "df_6.rename(columns = {'매출액' : '유흥+일반매출액'},inplace=True)"
   ]
  },
  {
   "cell_type": "code",
   "execution_count": 32,
   "metadata": {},
   "outputs": [],
   "source": [
    "xls = pd.ExcelFile('유동인구.xlsx')\n",
    "df_1 = pd.read_excel(xls, '12to18',usecols = ['동','유동인구','거주인구','유동인구/거주인구'])\n",
    "df_2 = pd.read_excel(xls, '21to03',usecols = ['동','유동인구','거주인구','유동인구/거주인구'])"
   ]
  },
  {
   "cell_type": "code",
   "execution_count": 33,
   "metadata": {},
   "outputs": [],
   "source": [
    "df_1.columns= ['행정동','1218_유동인구','1218_거주인구','1218_유동인구/거주인구']\n",
    "df_2.columns= ['행정동','2103_유동인구','2103_거주인구','2103_유동인구/거주인구']"
   ]
  },
  {
   "cell_type": "code",
   "execution_count": 34,
   "metadata": {},
   "outputs": [
    {
     "data": {
      "text/html": [
       "<div>\n",
       "<style scoped>\n",
       "    .dataframe tbody tr th:only-of-type {\n",
       "        vertical-align: middle;\n",
       "    }\n",
       "\n",
       "    .dataframe tbody tr th {\n",
       "        vertical-align: top;\n",
       "    }\n",
       "\n",
       "    .dataframe thead th {\n",
       "        text-align: right;\n",
       "    }\n",
       "</style>\n",
       "<table border=\"1\" class=\"dataframe\">\n",
       "  <thead>\n",
       "    <tr style=\"text-align: right;\">\n",
       "      <th></th>\n",
       "      <th>행정동</th>\n",
       "      <th>1218_유동인구</th>\n",
       "      <th>1218_거주인구</th>\n",
       "      <th>1218_유동인구/거주인구</th>\n",
       "    </tr>\n",
       "  </thead>\n",
       "  <tbody>\n",
       "    <tr>\n",
       "      <th>0</th>\n",
       "      <td>중앙동</td>\n",
       "      <td>2.410229e+06</td>\n",
       "      <td>5033</td>\n",
       "      <td>478.885184</td>\n",
       "    </tr>\n",
       "    <tr>\n",
       "      <th>1</th>\n",
       "      <td>효동</td>\n",
       "      <td>1.387323e+06</td>\n",
       "      <td>26167</td>\n",
       "      <td>53.018043</td>\n",
       "    </tr>\n",
       "    <tr>\n",
       "      <th>2</th>\n",
       "      <td>신인동</td>\n",
       "      <td>1.152293e+06</td>\n",
       "      <td>12549</td>\n",
       "      <td>91.823481</td>\n",
       "    </tr>\n",
       "    <tr>\n",
       "      <th>3</th>\n",
       "      <td>판암1동</td>\n",
       "      <td>1.012310e+06</td>\n",
       "      <td>12807</td>\n",
       "      <td>79.043476</td>\n",
       "    </tr>\n",
       "    <tr>\n",
       "      <th>4</th>\n",
       "      <td>판암2동</td>\n",
       "      <td>2.776619e+05</td>\n",
       "      <td>8877</td>\n",
       "      <td>31.278803</td>\n",
       "    </tr>\n",
       "  </tbody>\n",
       "</table>\n",
       "</div>"
      ],
      "text/plain": [
       "    행정동     1218_유동인구  1218_거주인구  1218_유동인구/거주인구\n",
       "0   중앙동  2.410229e+06       5033      478.885184\n",
       "1    효동  1.387323e+06      26167       53.018043\n",
       "2   신인동  1.152293e+06      12549       91.823481\n",
       "3  판암1동  1.012310e+06      12807       79.043476\n",
       "4  판암2동  2.776619e+05       8877       31.278803"
      ]
     },
     "execution_count": 34,
     "metadata": {},
     "output_type": "execute_result"
    }
   ],
   "source": [
    "df_1.head()"
   ]
  },
  {
   "cell_type": "code",
   "execution_count": 35,
   "metadata": {},
   "outputs": [],
   "source": [
    "import glob\n",
    "\n",
    "path = r'D:\\와이빅타\\20_1\\대전시공모전\\cctv' # use your path\n",
    "all_files = glob.glob(path + \"/*.csv\")\n",
    "\n",
    "li = []\n",
    "\n",
    "for filename in all_files:\n",
    "    df = pd.read_csv(filename, index_col=None, header=0)\n",
    "    li.append(df)\n",
    "\n",
    "frame = pd.concat(li, axis=0, ignore_index=True)"
   ]
  },
  {
   "cell_type": "code",
   "execution_count": 36,
   "metadata": {},
   "outputs": [
    {
     "data": {
      "text/html": [
       "<div>\n",
       "<style scoped>\n",
       "    .dataframe tbody tr th:only-of-type {\n",
       "        vertical-align: middle;\n",
       "    }\n",
       "\n",
       "    .dataframe tbody tr th {\n",
       "        vertical-align: top;\n",
       "    }\n",
       "\n",
       "    .dataframe thead th {\n",
       "        text-align: right;\n",
       "    }\n",
       "</style>\n",
       "<table border=\"1\" class=\"dataframe\">\n",
       "  <thead>\n",
       "    <tr style=\"text-align: right;\">\n",
       "      <th></th>\n",
       "      <th>Unnamed: 0</th>\n",
       "      <th>행정동</th>\n",
       "      <th>카메라대수</th>\n",
       "      <th>면적(km^2)</th>\n",
       "      <th>면적대비_CCTV</th>\n",
       "    </tr>\n",
       "  </thead>\n",
       "  <tbody>\n",
       "    <tr>\n",
       "      <th>0</th>\n",
       "      <td>0</td>\n",
       "      <td>대화동</td>\n",
       "      <td>43</td>\n",
       "      <td>3.15</td>\n",
       "      <td>13.650794</td>\n",
       "    </tr>\n",
       "    <tr>\n",
       "      <th>1</th>\n",
       "      <td>1</td>\n",
       "      <td>덕암동</td>\n",
       "      <td>81</td>\n",
       "      <td>6.22</td>\n",
       "      <td>13.022508</td>\n",
       "    </tr>\n",
       "    <tr>\n",
       "      <th>2</th>\n",
       "      <td>2</td>\n",
       "      <td>목상동</td>\n",
       "      <td>44</td>\n",
       "      <td>5.61</td>\n",
       "      <td>7.843137</td>\n",
       "    </tr>\n",
       "    <tr>\n",
       "      <th>3</th>\n",
       "      <td>3</td>\n",
       "      <td>법1동</td>\n",
       "      <td>20</td>\n",
       "      <td>0.78</td>\n",
       "      <td>25.641026</td>\n",
       "    </tr>\n",
       "    <tr>\n",
       "      <th>4</th>\n",
       "      <td>4</td>\n",
       "      <td>법2동</td>\n",
       "      <td>33</td>\n",
       "      <td>1.87</td>\n",
       "      <td>17.647059</td>\n",
       "    </tr>\n",
       "  </tbody>\n",
       "</table>\n",
       "</div>"
      ],
      "text/plain": [
       "   Unnamed: 0  행정동  카메라대수  면적(km^2)  면적대비_CCTV\n",
       "0           0  대화동     43      3.15  13.650794\n",
       "1           1  덕암동     81      6.22  13.022508\n",
       "2           2  목상동     44      5.61   7.843137\n",
       "3           3  법1동     20      0.78  25.641026\n",
       "4           4  법2동     33      1.87  17.647059"
      ]
     },
     "execution_count": 36,
     "metadata": {},
     "output_type": "execute_result"
    }
   ],
   "source": [
    "frame.head()"
   ]
  },
  {
   "cell_type": "code",
   "execution_count": 37,
   "metadata": {},
   "outputs": [
    {
     "data": {
      "text/plain": [
       "(79, 5)"
      ]
     },
     "execution_count": 37,
     "metadata": {},
     "output_type": "execute_result"
    }
   ],
   "source": [
    "frame.shape"
   ]
  },
  {
   "cell_type": "code",
   "execution_count": 41,
   "metadata": {},
   "outputs": [
    {
     "data": {
      "text/html": [
       "<div>\n",
       "<style scoped>\n",
       "    .dataframe tbody tr th:only-of-type {\n",
       "        vertical-align: middle;\n",
       "    }\n",
       "\n",
       "    .dataframe tbody tr th {\n",
       "        vertical-align: top;\n",
       "    }\n",
       "\n",
       "    .dataframe thead th {\n",
       "        text-align: right;\n",
       "    }\n",
       "</style>\n",
       "<table border=\"1\" class=\"dataframe\">\n",
       "  <thead>\n",
       "    <tr style=\"text-align: right;\">\n",
       "      <th></th>\n",
       "      <th>행정동</th>\n",
       "      <th>카메라대수</th>\n",
       "      <th>면적대비_CCTV</th>\n",
       "    </tr>\n",
       "  </thead>\n",
       "  <tbody>\n",
       "    <tr>\n",
       "      <th>0</th>\n",
       "      <td>대화동</td>\n",
       "      <td>43</td>\n",
       "      <td>13.650794</td>\n",
       "    </tr>\n",
       "    <tr>\n",
       "      <th>1</th>\n",
       "      <td>덕암동</td>\n",
       "      <td>81</td>\n",
       "      <td>13.022508</td>\n",
       "    </tr>\n",
       "    <tr>\n",
       "      <th>2</th>\n",
       "      <td>목상동</td>\n",
       "      <td>44</td>\n",
       "      <td>7.843137</td>\n",
       "    </tr>\n",
       "    <tr>\n",
       "      <th>3</th>\n",
       "      <td>법1동</td>\n",
       "      <td>20</td>\n",
       "      <td>25.641026</td>\n",
       "    </tr>\n",
       "    <tr>\n",
       "      <th>4</th>\n",
       "      <td>법2동</td>\n",
       "      <td>33</td>\n",
       "      <td>17.647059</td>\n",
       "    </tr>\n",
       "  </tbody>\n",
       "</table>\n",
       "</div>"
      ],
      "text/plain": [
       "   행정동  카메라대수  면적대비_CCTV\n",
       "0  대화동     43  13.650794\n",
       "1  덕암동     81  13.022508\n",
       "2  목상동     44   7.843137\n",
       "3  법1동     20  25.641026\n",
       "4  법2동     33  17.647059"
      ]
     },
     "execution_count": 41,
     "metadata": {},
     "output_type": "execute_result"
    }
   ],
   "source": [
    "df3 = frame[['행정동','카메라대수','면적대비_CCTV']]\n",
    "df3.head()"
   ]
  },
  {
   "cell_type": "code",
   "execution_count": 47,
   "metadata": {},
   "outputs": [],
   "source": [
    "xls = pd.ExcelFile('보정_동별성범죄자수.xlsx')\n",
    "df_4 = pd.read_excel(xls,usecols = ['dong','보정_범죄자수','보정_면적대비범죄자수'])"
   ]
  },
  {
   "cell_type": "code",
   "execution_count": 49,
   "metadata": {},
   "outputs": [
    {
     "data": {
      "text/html": [
       "<div>\n",
       "<style scoped>\n",
       "    .dataframe tbody tr th:only-of-type {\n",
       "        vertical-align: middle;\n",
       "    }\n",
       "\n",
       "    .dataframe tbody tr th {\n",
       "        vertical-align: top;\n",
       "    }\n",
       "\n",
       "    .dataframe thead th {\n",
       "        text-align: right;\n",
       "    }\n",
       "</style>\n",
       "<table border=\"1\" class=\"dataframe\">\n",
       "  <thead>\n",
       "    <tr style=\"text-align: right;\">\n",
       "      <th></th>\n",
       "      <th>행정동</th>\n",
       "      <th>보정_범죄자수</th>\n",
       "      <th>보정_면적대비범죄자수</th>\n",
       "    </tr>\n",
       "  </thead>\n",
       "  <tbody>\n",
       "    <tr>\n",
       "      <th>0</th>\n",
       "      <td>효동</td>\n",
       "      <td>0.1</td>\n",
       "      <td>0.041494</td>\n",
       "    </tr>\n",
       "    <tr>\n",
       "      <th>1</th>\n",
       "      <td>판암1동</td>\n",
       "      <td>1.0</td>\n",
       "      <td>0.186220</td>\n",
       "    </tr>\n",
       "    <tr>\n",
       "      <th>2</th>\n",
       "      <td>판암2동</td>\n",
       "      <td>3.0</td>\n",
       "      <td>3.947368</td>\n",
       "    </tr>\n",
       "    <tr>\n",
       "      <th>3</th>\n",
       "      <td>용운동</td>\n",
       "      <td>3.0</td>\n",
       "      <td>0.864553</td>\n",
       "    </tr>\n",
       "    <tr>\n",
       "      <th>4</th>\n",
       "      <td>자양동</td>\n",
       "      <td>1.0</td>\n",
       "      <td>0.869565</td>\n",
       "    </tr>\n",
       "  </tbody>\n",
       "</table>\n",
       "</div>"
      ],
      "text/plain": [
       "    행정동  보정_범죄자수  보정_면적대비범죄자수\n",
       "0    효동      0.1     0.041494\n",
       "1  판암1동      1.0     0.186220\n",
       "2  판암2동      3.0     3.947368\n",
       "3   용운동      3.0     0.864553\n",
       "4   자양동      1.0     0.869565"
      ]
     },
     "execution_count": 49,
     "metadata": {},
     "output_type": "execute_result"
    }
   ],
   "source": [
    "df_4.columns=['행정동','보정_범죄자수','보정_면적대비범죄자수']\n",
    "df_4.head()"
   ]
  },
  {
   "cell_type": "code",
   "execution_count": 90,
   "metadata": {},
   "outputs": [
    {
     "data": {
      "text/html": [
       "<div>\n",
       "<style scoped>\n",
       "    .dataframe tbody tr th:only-of-type {\n",
       "        vertical-align: middle;\n",
       "    }\n",
       "\n",
       "    .dataframe tbody tr th {\n",
       "        vertical-align: top;\n",
       "    }\n",
       "\n",
       "    .dataframe thead th {\n",
       "        text-align: right;\n",
       "    }\n",
       "</style>\n",
       "<table border=\"1\" class=\"dataframe\">\n",
       "  <thead>\n",
       "    <tr style=\"text-align: right;\">\n",
       "      <th></th>\n",
       "      <th>행정동</th>\n",
       "      <th>여성1인가구수</th>\n",
       "    </tr>\n",
       "  </thead>\n",
       "  <tbody>\n",
       "    <tr>\n",
       "      <th>0</th>\n",
       "      <td>자양동</td>\n",
       "      <td>2471</td>\n",
       "    </tr>\n",
       "    <tr>\n",
       "      <th>1</th>\n",
       "      <td>용운동</td>\n",
       "      <td>2302</td>\n",
       "    </tr>\n",
       "    <tr>\n",
       "      <th>2</th>\n",
       "      <td>효동</td>\n",
       "      <td>936</td>\n",
       "    </tr>\n",
       "    <tr>\n",
       "      <th>3</th>\n",
       "      <td>가양2동</td>\n",
       "      <td>1578</td>\n",
       "    </tr>\n",
       "    <tr>\n",
       "      <th>4</th>\n",
       "      <td>용전동</td>\n",
       "      <td>1620</td>\n",
       "    </tr>\n",
       "  </tbody>\n",
       "</table>\n",
       "</div>"
      ],
      "text/plain": [
       "    행정동  여성1인가구수\n",
       "0   자양동     2471\n",
       "1   용운동     2302\n",
       "2    효동      936\n",
       "3  가양2동     1578\n",
       "4   용전동     1620"
      ]
     },
     "execution_count": 90,
     "metadata": {},
     "output_type": "execute_result"
    }
   ],
   "source": [
    "xls = pd.ExcelFile('여성1인가구수.xlsx')\n",
    "df_7 = pd.read_excel(xls,usecols = ['행정동','여성1인가구수'])\n",
    "df_7.head()"
   ]
  },
  {
   "cell_type": "code",
   "execution_count": 91,
   "metadata": {},
   "outputs": [],
   "source": [
    "data_frames = [df_1, df_2, df3, df_4,df_5,df_6,df_7]\n",
    "\n",
    "from functools import reduce\n",
    "df_merged = reduce(lambda  left,right: pd.merge(left,right,on=['행정동'],\n",
    "                                            how='outer'), data_frames)"
   ]
  },
  {
   "cell_type": "code",
   "execution_count": 92,
   "metadata": {},
   "outputs": [
    {
     "data": {
      "text/html": [
       "<div>\n",
       "<style scoped>\n",
       "    .dataframe tbody tr th:only-of-type {\n",
       "        vertical-align: middle;\n",
       "    }\n",
       "\n",
       "    .dataframe tbody tr th {\n",
       "        vertical-align: top;\n",
       "    }\n",
       "\n",
       "    .dataframe thead th {\n",
       "        text-align: right;\n",
       "    }\n",
       "</style>\n",
       "<table border=\"1\" class=\"dataframe\">\n",
       "  <thead>\n",
       "    <tr style=\"text-align: right;\">\n",
       "      <th></th>\n",
       "      <th>행정동</th>\n",
       "      <th>1218_유동인구</th>\n",
       "      <th>1218_거주인구</th>\n",
       "      <th>1218_유동인구/거주인구</th>\n",
       "      <th>2103_유동인구</th>\n",
       "      <th>2103_거주인구</th>\n",
       "      <th>2103_유동인구/거주인구</th>\n",
       "      <th>카메라대수</th>\n",
       "      <th>면적대비_CCTV</th>\n",
       "      <th>보정_범죄자수</th>\n",
       "      <th>보정_면적대비범죄자수</th>\n",
       "      <th>유흥매출액</th>\n",
       "      <th>유흥+일반매출액</th>\n",
       "      <th>여성1인가구수</th>\n",
       "    </tr>\n",
       "  </thead>\n",
       "  <tbody>\n",
       "    <tr>\n",
       "      <th>0</th>\n",
       "      <td>중앙동</td>\n",
       "      <td>2.410229e+06</td>\n",
       "      <td>5033</td>\n",
       "      <td>478.885184</td>\n",
       "      <td>575172.600</td>\n",
       "      <td>5033</td>\n",
       "      <td>114.280270</td>\n",
       "      <td>42</td>\n",
       "      <td>33.070866</td>\n",
       "      <td>1.0</td>\n",
       "      <td>0.787402</td>\n",
       "      <td>8.151190e+08</td>\n",
       "      <td>53751417511</td>\n",
       "      <td>490</td>\n",
       "    </tr>\n",
       "    <tr>\n",
       "      <th>1</th>\n",
       "      <td>효동</td>\n",
       "      <td>1.387323e+06</td>\n",
       "      <td>26167</td>\n",
       "      <td>53.018043</td>\n",
       "      <td>447480.467</td>\n",
       "      <td>26167</td>\n",
       "      <td>17.100946</td>\n",
       "      <td>210</td>\n",
       "      <td>87.136929</td>\n",
       "      <td>0.1</td>\n",
       "      <td>0.041494</td>\n",
       "      <td>1.979914e+09</td>\n",
       "      <td>57881696036</td>\n",
       "      <td>936</td>\n",
       "    </tr>\n",
       "    <tr>\n",
       "      <th>2</th>\n",
       "      <td>신인동</td>\n",
       "      <td>1.152293e+06</td>\n",
       "      <td>12549</td>\n",
       "      <td>91.823481</td>\n",
       "      <td>453473.133</td>\n",
       "      <td>12549</td>\n",
       "      <td>36.136197</td>\n",
       "      <td>42</td>\n",
       "      <td>50.000000</td>\n",
       "      <td>1.0</td>\n",
       "      <td>1.190476</td>\n",
       "      <td>3.350896e+06</td>\n",
       "      <td>2839351265</td>\n",
       "      <td>528</td>\n",
       "    </tr>\n",
       "    <tr>\n",
       "      <th>3</th>\n",
       "      <td>판암1동</td>\n",
       "      <td>1.012310e+06</td>\n",
       "      <td>12807</td>\n",
       "      <td>79.043476</td>\n",
       "      <td>313242.867</td>\n",
       "      <td>12807</td>\n",
       "      <td>24.458723</td>\n",
       "      <td>61</td>\n",
       "      <td>11.359404</td>\n",
       "      <td>1.0</td>\n",
       "      <td>0.186220</td>\n",
       "      <td>8.708482e+07</td>\n",
       "      <td>13905259332</td>\n",
       "      <td>640</td>\n",
       "    </tr>\n",
       "    <tr>\n",
       "      <th>4</th>\n",
       "      <td>판암2동</td>\n",
       "      <td>2.776619e+05</td>\n",
       "      <td>8877</td>\n",
       "      <td>31.278803</td>\n",
       "      <td>95004.600</td>\n",
       "      <td>8877</td>\n",
       "      <td>10.702332</td>\n",
       "      <td>30</td>\n",
       "      <td>39.473684</td>\n",
       "      <td>3.0</td>\n",
       "      <td>3.947368</td>\n",
       "      <td>9.093965e+07</td>\n",
       "      <td>1449230531</td>\n",
       "      <td>1313</td>\n",
       "    </tr>\n",
       "  </tbody>\n",
       "</table>\n",
       "</div>"
      ],
      "text/plain": [
       "    행정동     1218_유동인구  1218_거주인구  1218_유동인구/거주인구   2103_유동인구  2103_거주인구  \\\n",
       "0   중앙동  2.410229e+06       5033      478.885184  575172.600       5033   \n",
       "1    효동  1.387323e+06      26167       53.018043  447480.467      26167   \n",
       "2   신인동  1.152293e+06      12549       91.823481  453473.133      12549   \n",
       "3  판암1동  1.012310e+06      12807       79.043476  313242.867      12807   \n",
       "4  판암2동  2.776619e+05       8877       31.278803   95004.600       8877   \n",
       "\n",
       "   2103_유동인구/거주인구  카메라대수  면적대비_CCTV  보정_범죄자수  보정_면적대비범죄자수         유흥매출액  \\\n",
       "0      114.280270     42  33.070866      1.0     0.787402  8.151190e+08   \n",
       "1       17.100946    210  87.136929      0.1     0.041494  1.979914e+09   \n",
       "2       36.136197     42  50.000000      1.0     1.190476  3.350896e+06   \n",
       "3       24.458723     61  11.359404      1.0     0.186220  8.708482e+07   \n",
       "4       10.702332     30  39.473684      3.0     3.947368  9.093965e+07   \n",
       "\n",
       "      유흥+일반매출액  여성1인가구수  \n",
       "0  53751417511      490  \n",
       "1  57881696036      936  \n",
       "2   2839351265      528  \n",
       "3  13905259332      640  \n",
       "4   1449230531     1313  "
      ]
     },
     "execution_count": 92,
     "metadata": {},
     "output_type": "execute_result"
    }
   ],
   "source": [
    "df_merged.head()"
   ]
  },
  {
   "cell_type": "code",
   "execution_count": 94,
   "metadata": {},
   "outputs": [
    {
     "data": {
      "text/plain": [
       "(79, 14)"
      ]
     },
     "execution_count": 94,
     "metadata": {},
     "output_type": "execute_result"
    }
   ],
   "source": [
    "df_merged.shape"
   ]
  },
  {
   "cell_type": "code",
   "execution_count": 96,
   "metadata": {},
   "outputs": [],
   "source": [
    "pd.DataFrame.to_csv(df_merged, 'merged.csv', sep=',', na_rep='.', index=False)"
   ]
  },
  {
   "cell_type": "code",
   "execution_count": null,
   "metadata": {},
   "outputs": [],
   "source": []
  }
 ],
 "metadata": {
  "kernelspec": {
   "display_name": "Python 3",
   "language": "python",
   "name": "python3"
  },
  "language_info": {
   "codemirror_mode": {
    "name": "ipython",
    "version": 3
   },
   "file_extension": ".py",
   "mimetype": "text/x-python",
   "name": "python",
   "nbconvert_exporter": "python",
   "pygments_lexer": "ipython3",
   "version": "3.6.8"
  }
 },
 "nbformat": 4,
 "nbformat_minor": 2
}
