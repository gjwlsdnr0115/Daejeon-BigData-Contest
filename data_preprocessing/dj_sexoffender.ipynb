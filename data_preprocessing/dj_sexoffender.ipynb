{
 "cells": [
  {
   "cell_type": "code",
   "execution_count": 158,
   "metadata": {},
   "outputs": [],
   "source": [
    "import pandas as pd\n",
    "import numpy as np\n"
   ]
  },
  {
   "cell_type": "code",
   "execution_count": 7,
   "metadata": {},
   "outputs": [
    {
     "data": {
      "text/html": [
       "<div>\n",
       "<style scoped>\n",
       "    .dataframe tbody tr th:only-of-type {\n",
       "        vertical-align: middle;\n",
       "    }\n",
       "\n",
       "    .dataframe tbody tr th {\n",
       "        vertical-align: top;\n",
       "    }\n",
       "\n",
       "    .dataframe thead th {\n",
       "        text-align: right;\n",
       "    }\n",
       "</style>\n",
       "<table border=\"1\" class=\"dataframe\">\n",
       "  <thead>\n",
       "    <tr style=\"text-align: right;\">\n",
       "      <th></th>\n",
       "      <th>연월</th>\n",
       "      <th>시</th>\n",
       "      <th>자치구</th>\n",
       "      <th>행정동</th>\n",
       "      <th>분류</th>\n",
       "      <th>매출액</th>\n",
       "    </tr>\n",
       "  </thead>\n",
       "  <tbody>\n",
       "    <tr>\n",
       "      <th>0</th>\n",
       "      <td>201901</td>\n",
       "      <td>대전광역시</td>\n",
       "      <td>동구</td>\n",
       "      <td>효동</td>\n",
       "      <td>건축관련업</td>\n",
       "      <td>22163814</td>\n",
       "    </tr>\n",
       "    <tr>\n",
       "      <th>1</th>\n",
       "      <td>201901</td>\n",
       "      <td>대전광역시</td>\n",
       "      <td>동구</td>\n",
       "      <td>효동</td>\n",
       "      <td>레저/스포츠</td>\n",
       "      <td>17089598</td>\n",
       "    </tr>\n",
       "    <tr>\n",
       "      <th>2</th>\n",
       "      <td>201901</td>\n",
       "      <td>대전광역시</td>\n",
       "      <td>동구</td>\n",
       "      <td>효동</td>\n",
       "      <td>문화/취미</td>\n",
       "      <td>65469612</td>\n",
       "    </tr>\n",
       "    <tr>\n",
       "      <th>3</th>\n",
       "      <td>201901</td>\n",
       "      <td>대전광역시</td>\n",
       "      <td>동구</td>\n",
       "      <td>효동</td>\n",
       "      <td>미용</td>\n",
       "      <td>406169011</td>\n",
       "    </tr>\n",
       "    <tr>\n",
       "      <th>4</th>\n",
       "      <td>201901</td>\n",
       "      <td>대전광역시</td>\n",
       "      <td>동구</td>\n",
       "      <td>효동</td>\n",
       "      <td>소매</td>\n",
       "      <td>1951915657</td>\n",
       "    </tr>\n",
       "    <tr>\n",
       "      <th>5</th>\n",
       "      <td>201901</td>\n",
       "      <td>대전광역시</td>\n",
       "      <td>동구</td>\n",
       "      <td>효동</td>\n",
       "      <td>신변잡화</td>\n",
       "      <td>212943103</td>\n",
       "    </tr>\n",
       "    <tr>\n",
       "      <th>6</th>\n",
       "      <td>201901</td>\n",
       "      <td>대전광역시</td>\n",
       "      <td>동구</td>\n",
       "      <td>효동</td>\n",
       "      <td>용역서비스</td>\n",
       "      <td>15722607</td>\n",
       "    </tr>\n",
       "    <tr>\n",
       "      <th>7</th>\n",
       "      <td>201901</td>\n",
       "      <td>대전광역시</td>\n",
       "      <td>동구</td>\n",
       "      <td>효동</td>\n",
       "      <td>유아교육기관</td>\n",
       "      <td>250119674</td>\n",
       "    </tr>\n",
       "    <tr>\n",
       "      <th>8</th>\n",
       "      <td>201901</td>\n",
       "      <td>대전광역시</td>\n",
       "      <td>동구</td>\n",
       "      <td>효동</td>\n",
       "      <td>유흥</td>\n",
       "      <td>174111133</td>\n",
       "    </tr>\n",
       "    <tr>\n",
       "      <th>9</th>\n",
       "      <td>201901</td>\n",
       "      <td>대전광역시</td>\n",
       "      <td>동구</td>\n",
       "      <td>효동</td>\n",
       "      <td>음식료품</td>\n",
       "      <td>169627578</td>\n",
       "    </tr>\n",
       "  </tbody>\n",
       "</table>\n",
       "</div>"
      ],
      "text/plain": [
       "       연월      시 자치구 행정동      분류         매출액\n",
       "0  201901  대전광역시  동구  효동   건축관련업    22163814\n",
       "1  201901  대전광역시  동구  효동  레저/스포츠    17089598\n",
       "2  201901  대전광역시  동구  효동   문화/취미    65469612\n",
       "3  201901  대전광역시  동구  효동      미용   406169011\n",
       "4  201901  대전광역시  동구  효동      소매  1951915657\n",
       "5  201901  대전광역시  동구  효동    신변잡화   212943103\n",
       "6  201901  대전광역시  동구  효동   용역서비스    15722607\n",
       "7  201901  대전광역시  동구  효동  유아교육기관   250119674\n",
       "8  201901  대전광역시  동구  효동      유흥   174111133\n",
       "9  201901  대전광역시  동구  효동    음식료품   169627578"
      ]
     },
     "execution_count": 7,
     "metadata": {},
     "output_type": "execute_result"
    }
   ],
   "source": [
    "card = pd.read_csv('dj_card.csv', encoding ='utf=8')\n",
    "card.head(10)"
   ]
  },
  {
   "cell_type": "code",
   "execution_count": 20,
   "metadata": {},
   "outputs": [
    {
     "data": {
      "text/plain": [
       "array(['효동', '판암1동', '판암2동', '용운동', '자양동', '가양1동', '가양2동', '용전동', '홍도동',\n",
       "       '대청동', '산내동', '중앙동', '신인동', '대동', '성남동', '삼성동', '은행선화동', '목동',\n",
       "       '중촌동', '대흥동', '문창동', '석교동', '대사동', '부사동', '용두동', '오류동', '태평1동',\n",
       "       '태평2동', '유천1동', '유천2동', '문화1동', '문화2동', '산성동', '복수동', '도마1동',\n",
       "       '도마2동', '정림동', '변동', '용문동', '탄방동', '둔산1동', '둔산2동', '괴정동', '가장동',\n",
       "       '내동', '갈마1동', '갈마2동', '월평1동', '월평2동', '월평3동', '만년동', '가수원동', '기성동',\n",
       "       '관저1동', '관저2동', '둔산3동', '진잠동', '온천2동', '신성동', '전민동', '노은1동', '구즉동',\n",
       "       '관평동', '온천1동', '원신흥동', '노은2동', '노은3동', '오정동', '대화동', '회덕동', '비래동',\n",
       "       '중리동', '법1동', '법2동', '신탄진동', '석봉동', '덕암동', '목상동', '송촌동'],\n",
       "      dtype=object)"
      ]
     },
     "execution_count": 20,
     "metadata": {},
     "output_type": "execute_result"
    }
   ],
   "source": [
    "card['행정동'].unique()"
   ]
  },
  {
   "cell_type": "code",
   "execution_count": 19,
   "metadata": {},
   "outputs": [
    {
     "data": {
      "text/plain": [
       "79"
      ]
     },
     "execution_count": 19,
     "metadata": {},
     "output_type": "execute_result"
    }
   ],
   "source": [
    "len(card['행정동'].unique())"
   ]
  },
  {
   "cell_type": "code",
   "execution_count": 12,
   "metadata": {},
   "outputs": [
    {
     "data": {
      "text/plain": [
       "array(['건축관련업', '레저/스포츠', '문화/취미', '미용', '소매', '신변잡화', '용역서비스', '유아교육기관',\n",
       "       '유흥', '음식료품', '의료기관/제약', '의류', '일반음식점', '자동차정비/유지', '전자상거래', '주유',\n",
       "       '학습자재', '학원', '휴게음식점', '기타유통', '사무기기', '숙박', '운송기구판매', '기타제조/도매',\n",
       "       '관광여행', '수리서비스', '전자제품', '주방용품', '직물/침구류', '가례서비스', '가구', '회비',\n",
       "       '대형유통', '악기', '요금', '비영리유통', '연료판매', '보험', '학교'], dtype=object)"
      ]
     },
     "execution_count": 12,
     "metadata": {},
     "output_type": "execute_result"
    }
   ],
   "source": [
    "card['분류'].unique()"
   ]
  },
  {
   "cell_type": "code",
   "execution_count": 21,
   "metadata": {},
   "outputs": [
    {
     "data": {
      "text/plain": [
       "행정동\n",
       "가수원동     192303662978\n",
       "가양1동      71570453044\n",
       "가양2동      75950059388\n",
       "가장동       84910393961\n",
       "갈마1동     139435674783\n",
       "갈마2동     139203764905\n",
       "관저1동     107542890732\n",
       "관저2동     241632003290\n",
       "관평동      220094507171\n",
       "괴정동       81001698639\n",
       "구즉동      114173367152\n",
       "기성동         648270653\n",
       "내동        73829246408\n",
       "노은1동     351356134011\n",
       "노은2동      58312778537\n",
       "노은3동     139747557091\n",
       "대동        33482313503\n",
       "대사동       14343423055\n",
       "대청동         455854806\n",
       "대화동       36250600915\n",
       "대흥동      318938085282\n",
       "덕암동      133204575918\n",
       "도마1동     128412606964\n",
       "도마2동      68456977116\n",
       "둔산1동     258051694404\n",
       "둔산2동     849517599154\n",
       "둔산3동      37737564005\n",
       "만년동      106937926776\n",
       "목동        23497182679\n",
       "목상동       50502682324\n",
       "             ...     \n",
       "오류동      182715389800\n",
       "오정동      310939148878\n",
       "온천1동     633180562923\n",
       "온천2동     416781414366\n",
       "용두동       19425464035\n",
       "용문동      171936249414\n",
       "용운동       38079938253\n",
       "용전동       88558635984\n",
       "원신흥동     160406546556\n",
       "월평1동     102383044049\n",
       "월평2동      55157307614\n",
       "월평3동       8725157576\n",
       "유천1동      36417983062\n",
       "유천2동      70905556221\n",
       "은행선화동    237007936327\n",
       "자양동       64625298285\n",
       "전민동      110138119921\n",
       "정림동       59940200555\n",
       "중리동      183550988445\n",
       "중앙동      290008562711\n",
       "중촌동       55168159789\n",
       "진잠동      127398066787\n",
       "탄방동      745711817928\n",
       "태평1동      56648679703\n",
       "태평2동      46692127864\n",
       "판암1동      40507301250\n",
       "판암2동       9046109848\n",
       "홍도동       44409348784\n",
       "회덕동       45827747277\n",
       "효동       162700380206\n",
       "Name: 매출액, Length: 79, dtype: int64"
      ]
     },
     "execution_count": 21,
     "metadata": {},
     "output_type": "execute_result"
    }
   ],
   "source": [
    "yh = card[card['분류']=='유흥']\n",
    "grouped = card['매출액'].groupby(card['행정동'])\n",
    "grouped.sum()"
   ]
  },
  {
   "cell_type": "code",
   "execution_count": null,
   "metadata": {},
   "outputs": [],
   "source": [
    "import folium\n",
    "json_data=open(\"TL_SCCO_EMD.json\",encoding='UTF8').read()\n",
    "file = json.loads(json_data)\n",
    "\n",
    "map=folium. Map([37.565784, 126.938572],zoom_start=7)\n",
    "folium.Choropleth(geo_data =json_data).add_to(map)\n",
    "map"
   ]
  },
  {
   "cell_type": "code",
   "execution_count": null,
   "metadata": {},
   "outputs": [],
   "source": []
  },
  {
   "cell_type": "code",
   "execution_count": null,
   "metadata": {},
   "outputs": [],
   "source": []
  },
  {
   "cell_type": "code",
   "execution_count": 98,
   "metadata": {},
   "outputs": [],
   "source": [
    "from selenium import webdriver\n",
    "path = 'D:/와이빅타/20_1/대전시공모전/chromedriver' #크롬드라이버 패스\n",
    "driver = webdriver.Chrome(path)\n",
    "\n",
    "driver.get('https://www.sexoffender.go.kr/m1s2_4_dong.nsc')\n"
   ]
  },
  {
   "cell_type": "code",
   "execution_count": 125,
   "metadata": {},
   "outputs": [],
   "source": [
    "driver.implicitly_wait(3)\n",
    "\n",
    "def crawler(page_num):\n",
    "    #driver.get(url)\n",
    "    for i in range(-(page_num),0):\n",
    "        criminals = driver.find_elements_by_css_selector('div.table_list > table > tbody > tr')\n",
    "        for criminal in criminals:\n",
    "            if len(criminal.find_elements_by_css_selector(\"td > a\")) != 0:\n",
    "                address_list.append(criminal.find_elements_by_css_selector(\"td > a\")[2].text.strip())\n",
    "        print(driver.find_elements_by_css_selector('div.paging > a')[i].text)\n",
    "        driver.find_elements_by_css_selector('div.paging > a')[i].click()\n",
    "        #if driver.find_elements_by_css_selector('div.paging > a')[i].text == (page_num -1):\n",
    "            #break"
   ]
  },
  {
   "cell_type": "code",
   "execution_count": 121,
   "metadata": {},
   "outputs": [
    {
     "data": {
      "text/plain": [
       "[<selenium.webdriver.remote.webelement.WebElement (session=\"c3f59815ec544a59eeadbe32f164d290\", element=\"28697f01-cbe6-4d6a-b39e-ffaf89beed03\")>,\n",
       " <selenium.webdriver.remote.webelement.WebElement (session=\"c3f59815ec544a59eeadbe32f164d290\", element=\"9e834467-ac7f-413e-a5e3-d0ed82b5b515\")>,\n",
       " <selenium.webdriver.remote.webelement.WebElement (session=\"c3f59815ec544a59eeadbe32f164d290\", element=\"e2c2f9c6-a4c7-4abb-818c-54b8332e713a\")>,\n",
       " <selenium.webdriver.remote.webelement.WebElement (session=\"c3f59815ec544a59eeadbe32f164d290\", element=\"060227c4-9ef8-4f8d-b39f-2a4b3b8c763f\")>]"
      ]
     },
     "execution_count": 121,
     "metadata": {},
     "output_type": "execute_result"
    }
   ],
   "source": [
    "#driver.find_elements_by_css_selector('div.table_list > table > tbody > tr > td > a')[2].text\n",
    "\n",
    "driver.find_elements_by_css_selector('div.table_list > table > tbody > tr:nth-child(1) > td > a')"
   ]
  },
  {
   "cell_type": "code",
   "execution_count": 123,
   "metadata": {},
   "outputs": [
    {
     "name": "stdout",
     "output_type": "stream",
     "text": [
      "2\n",
      "3\n",
      "4\n",
      "5\n",
      "6\n",
      "5\n",
      "26\n"
     ]
    }
   ],
   "source": [
    "address_list=[]\n",
    "\n",
    "url_ys = 'https://www.sexoffender.go.kr/m1s2_4_dong.nsc#sl'\n",
    "url_j\n",
    "crawler(6)\n",
    "print(len(address_list))"
   ]
  },
  {
   "cell_type": "code",
   "execution_count": 126,
   "metadata": {},
   "outputs": [
    {
     "name": "stdout",
     "output_type": "stream",
     "text": [
      "2\n",
      "3\n",
      "2\n"
     ]
    }
   ],
   "source": [
    "crawler(3)"
   ]
  },
  {
   "cell_type": "code",
   "execution_count": 127,
   "metadata": {},
   "outputs": [
    {
     "data": {
      "text/plain": [
       "39"
      ]
     },
     "execution_count": 127,
     "metadata": {},
     "output_type": "execute_result"
    }
   ],
   "source": [
    "len(address_list)"
   ]
  },
  {
   "cell_type": "code",
   "execution_count": 128,
   "metadata": {},
   "outputs": [
    {
     "name": "stdout",
     "output_type": "stream",
     "text": [
      "2\n",
      "3\n",
      "4\n",
      "3\n"
     ]
    }
   ],
   "source": [
    "crawler(4)"
   ]
  },
  {
   "cell_type": "code",
   "execution_count": 129,
   "metadata": {},
   "outputs": [
    {
     "name": "stdout",
     "output_type": "stream",
     "text": [
      "2\n",
      "3\n",
      "4\n",
      "3\n"
     ]
    }
   ],
   "source": [
    "crawler(4)"
   ]
  },
  {
   "cell_type": "code",
   "execution_count": 130,
   "metadata": {},
   "outputs": [
    {
     "name": "stdout",
     "output_type": "stream",
     "text": [
      "2\n",
      "3\n",
      "4\n",
      "5\n",
      "4\n"
     ]
    }
   ],
   "source": [
    "crawler(5)"
   ]
  },
  {
   "cell_type": "code",
   "execution_count": 154,
   "metadata": {},
   "outputs": [
    {
     "data": {
      "text/plain": [
       "100"
      ]
     },
     "execution_count": 154,
     "metadata": {},
     "output_type": "execute_result"
    }
   ],
   "source": [
    "len(address_list)"
   ]
  },
  {
   "cell_type": "code",
   "execution_count": 133,
   "metadata": {},
   "outputs": [],
   "source": [
    "import requests\n",
    "\n",
    "url = \"https://dapi.kakao.com/v2/local/search/address.json?\"\n",
    "apikey = \"2bac3422318896e96bfb6f04e97bdaaa\""
   ]
  },
  {
   "cell_type": "code",
   "execution_count": 134,
   "metadata": {},
   "outputs": [],
   "source": [
    "req= requests.get(url, params={'query': address_list[0]},\n",
    "                     headers={'Authorization': 'KakaoAK ' + apikey})"
   ]
  },
  {
   "cell_type": "code",
   "execution_count": 136,
   "metadata": {},
   "outputs": [
    {
     "name": "stdout",
     "output_type": "stream",
     "text": [
      "{'documents': [{'address': {'address_name': '대전 유성구 장대동 328-15', 'b_code': '3020011700', 'h_code': '3020054000', 'main_address_no': '328', 'mountain_yn': 'N', 'region_1depth_name': '대전', 'region_2depth_name': '유성구', 'region_3depth_h_name': '온천2동', 'region_3depth_name': '장대동', 'sub_address_no': '15', 'x': '127.335367944509', 'y': '36.3629456639639'}, 'address_name': '대전 유성구 유성대로783번길 31', 'address_type': 'ROAD_ADDR', 'road_address': {'address_name': '대전 유성구 유성대로783번길 31', 'building_name': '', 'main_building_no': '31', 'region_1depth_name': '대전', 'region_2depth_name': '유성구', 'region_3depth_name': '장대동', 'road_name': '유성대로783번길', 'sub_building_no': '', 'underground_yn': 'N', 'x': '127.335367944509', 'y': '36.3629456639639', 'zone_no': '34165'}, 'x': '127.335367944509', 'y': '36.3629456639639'}], 'meta': {'is_end': True, 'pageable_count': 1, 'total_count': 1}}\n"
     ]
    }
   ],
   "source": [
    "print(req.json())"
   ]
  },
  {
   "cell_type": "code",
   "execution_count": 150,
   "metadata": {},
   "outputs": [
    {
     "name": "stdout",
     "output_type": "stream",
     "text": [
      "온천2동\n"
     ]
    }
   ],
   "source": [
    "js= req.json()\n",
    "print(js['documents'][0]['address']['region_3depth_h_name'])"
   ]
  },
  {
   "cell_type": "code",
   "execution_count": 151,
   "metadata": {},
   "outputs": [],
   "source": [
    "dlist=[]\n",
    "for add in address_list:\n",
    "    req= requests.get(url, params={'query': add},\n",
    "                     headers={'Authorization': 'KakaoAK ' + apikey})\n",
    "    js= req.json()\n",
    "    dong = js['documents'][0]['address']['region_3depth_h_name']\n",
    "    dlist.append(dong)"
   ]
  },
  {
   "cell_type": "code",
   "execution_count": 153,
   "metadata": {},
   "outputs": [
    {
     "data": {
      "text/plain": [
       "100"
      ]
     },
     "execution_count": 153,
     "metadata": {},
     "output_type": "execute_result"
    }
   ],
   "source": [
    "len(dlist)"
   ]
  },
  {
   "cell_type": "code",
   "execution_count": 161,
   "metadata": {},
   "outputs": [
    {
     "name": "stdout",
     "output_type": "stream",
     "text": [
      "Counter({'온천1동': 10, '은행선화동': 7, '온천2동': 5, '진잠동': 4, '중리동': 3, '용운동': 3, '판암2동': 3, '갈마2동': 3, '산성동': 3, '대흥동': 3, '석교동': 3, '구즉동': 2, '오정동': 2, '회덕동': 2, '홍도동': 2, '가양2동': 2, '삼성동': 2, '정림동': 2, '가장동': 2, '용문동': 2, '도마1동': 2, '유천1동': 2, '원신흥동': 1, '노은2동': 1, '노은3동': 1, '전민동': 1, '노은1동': 1, '비래동': 1, '덕암동': 1, '대화동': 1, '목상동': 1, '법2동': 1, '법1동': 1, '판암1동': 1, '자양동': 1, '신인동': 1, '중앙동': 1, '산내동': 1, '둔산3동': 1, '탄방동': 1, '괴정동': 1, '둔산2동': 1, '가수원동': 1, '도마2동': 1, '월평2동': 1, '관저2동': 1, '월평1동': 1, '문화2동': 1, '문화1동': 1, '대사동': 1, '문창동': 1, '유천2동': 1, '용두동': 1})\n"
     ]
    }
   ],
   "source": [
    "import collections\n",
    "\n",
    "d_dict = collections.Counter(dlist)\n",
    "print(d_dict)"
   ]
  },
  {
   "cell_type": "code",
   "execution_count": 170,
   "metadata": {},
   "outputs": [
    {
     "data": {
      "text/html": [
       "<div>\n",
       "<style scoped>\n",
       "    .dataframe tbody tr th:only-of-type {\n",
       "        vertical-align: middle;\n",
       "    }\n",
       "\n",
       "    .dataframe tbody tr th {\n",
       "        vertical-align: top;\n",
       "    }\n",
       "\n",
       "    .dataframe thead th {\n",
       "        text-align: right;\n",
       "    }\n",
       "</style>\n",
       "<table border=\"1\" class=\"dataframe\">\n",
       "  <thead>\n",
       "    <tr style=\"text-align: right;\">\n",
       "      <th></th>\n",
       "      <th>0</th>\n",
       "    </tr>\n",
       "  </thead>\n",
       "  <tbody>\n",
       "    <tr>\n",
       "      <th>온천2동</th>\n",
       "      <td>5</td>\n",
       "    </tr>\n",
       "    <tr>\n",
       "      <th>온천1동</th>\n",
       "      <td>10</td>\n",
       "    </tr>\n",
       "    <tr>\n",
       "      <th>구즉동</th>\n",
       "      <td>2</td>\n",
       "    </tr>\n",
       "    <tr>\n",
       "      <th>진잠동</th>\n",
       "      <td>4</td>\n",
       "    </tr>\n",
       "    <tr>\n",
       "      <th>원신흥동</th>\n",
       "      <td>1</td>\n",
       "    </tr>\n",
       "    <tr>\n",
       "      <th>노은2동</th>\n",
       "      <td>1</td>\n",
       "    </tr>\n",
       "    <tr>\n",
       "      <th>노은3동</th>\n",
       "      <td>1</td>\n",
       "    </tr>\n",
       "    <tr>\n",
       "      <th>전민동</th>\n",
       "      <td>1</td>\n",
       "    </tr>\n",
       "    <tr>\n",
       "      <th>노은1동</th>\n",
       "      <td>1</td>\n",
       "    </tr>\n",
       "    <tr>\n",
       "      <th>비래동</th>\n",
       "      <td>1</td>\n",
       "    </tr>\n",
       "    <tr>\n",
       "      <th>중리동</th>\n",
       "      <td>3</td>\n",
       "    </tr>\n",
       "    <tr>\n",
       "      <th>오정동</th>\n",
       "      <td>2</td>\n",
       "    </tr>\n",
       "    <tr>\n",
       "      <th>회덕동</th>\n",
       "      <td>2</td>\n",
       "    </tr>\n",
       "    <tr>\n",
       "      <th>덕암동</th>\n",
       "      <td>1</td>\n",
       "    </tr>\n",
       "    <tr>\n",
       "      <th>대화동</th>\n",
       "      <td>1</td>\n",
       "    </tr>\n",
       "    <tr>\n",
       "      <th>목상동</th>\n",
       "      <td>1</td>\n",
       "    </tr>\n",
       "    <tr>\n",
       "      <th>법2동</th>\n",
       "      <td>1</td>\n",
       "    </tr>\n",
       "    <tr>\n",
       "      <th>법1동</th>\n",
       "      <td>1</td>\n",
       "    </tr>\n",
       "    <tr>\n",
       "      <th>홍도동</th>\n",
       "      <td>2</td>\n",
       "    </tr>\n",
       "    <tr>\n",
       "      <th>판암1동</th>\n",
       "      <td>1</td>\n",
       "    </tr>\n",
       "    <tr>\n",
       "      <th>자양동</th>\n",
       "      <td>1</td>\n",
       "    </tr>\n",
       "    <tr>\n",
       "      <th>신인동</th>\n",
       "      <td>1</td>\n",
       "    </tr>\n",
       "    <tr>\n",
       "      <th>중앙동</th>\n",
       "      <td>1</td>\n",
       "    </tr>\n",
       "    <tr>\n",
       "      <th>용운동</th>\n",
       "      <td>3</td>\n",
       "    </tr>\n",
       "    <tr>\n",
       "      <th>가양2동</th>\n",
       "      <td>2</td>\n",
       "    </tr>\n",
       "    <tr>\n",
       "      <th>산내동</th>\n",
       "      <td>1</td>\n",
       "    </tr>\n",
       "    <tr>\n",
       "      <th>삼성동</th>\n",
       "      <td>2</td>\n",
       "    </tr>\n",
       "    <tr>\n",
       "      <th>판암2동</th>\n",
       "      <td>3</td>\n",
       "    </tr>\n",
       "    <tr>\n",
       "      <th>둔산3동</th>\n",
       "      <td>1</td>\n",
       "    </tr>\n",
       "    <tr>\n",
       "      <th>탄방동</th>\n",
       "      <td>1</td>\n",
       "    </tr>\n",
       "    <tr>\n",
       "      <th>정림동</th>\n",
       "      <td>2</td>\n",
       "    </tr>\n",
       "    <tr>\n",
       "      <th>가장동</th>\n",
       "      <td>2</td>\n",
       "    </tr>\n",
       "    <tr>\n",
       "      <th>용문동</th>\n",
       "      <td>2</td>\n",
       "    </tr>\n",
       "    <tr>\n",
       "      <th>괴정동</th>\n",
       "      <td>1</td>\n",
       "    </tr>\n",
       "    <tr>\n",
       "      <th>둔산2동</th>\n",
       "      <td>1</td>\n",
       "    </tr>\n",
       "    <tr>\n",
       "      <th>갈마2동</th>\n",
       "      <td>3</td>\n",
       "    </tr>\n",
       "    <tr>\n",
       "      <th>가수원동</th>\n",
       "      <td>1</td>\n",
       "    </tr>\n",
       "    <tr>\n",
       "      <th>도마1동</th>\n",
       "      <td>2</td>\n",
       "    </tr>\n",
       "    <tr>\n",
       "      <th>도마2동</th>\n",
       "      <td>1</td>\n",
       "    </tr>\n",
       "    <tr>\n",
       "      <th>월평2동</th>\n",
       "      <td>1</td>\n",
       "    </tr>\n",
       "    <tr>\n",
       "      <th>관저2동</th>\n",
       "      <td>1</td>\n",
       "    </tr>\n",
       "    <tr>\n",
       "      <th>월평1동</th>\n",
       "      <td>1</td>\n",
       "    </tr>\n",
       "    <tr>\n",
       "      <th>문화2동</th>\n",
       "      <td>1</td>\n",
       "    </tr>\n",
       "    <tr>\n",
       "      <th>유천1동</th>\n",
       "      <td>2</td>\n",
       "    </tr>\n",
       "    <tr>\n",
       "      <th>은행선화동</th>\n",
       "      <td>7</td>\n",
       "    </tr>\n",
       "    <tr>\n",
       "      <th>산성동</th>\n",
       "      <td>3</td>\n",
       "    </tr>\n",
       "    <tr>\n",
       "      <th>문화1동</th>\n",
       "      <td>1</td>\n",
       "    </tr>\n",
       "    <tr>\n",
       "      <th>대사동</th>\n",
       "      <td>1</td>\n",
       "    </tr>\n",
       "    <tr>\n",
       "      <th>대흥동</th>\n",
       "      <td>3</td>\n",
       "    </tr>\n",
       "    <tr>\n",
       "      <th>석교동</th>\n",
       "      <td>3</td>\n",
       "    </tr>\n",
       "    <tr>\n",
       "      <th>문창동</th>\n",
       "      <td>1</td>\n",
       "    </tr>\n",
       "    <tr>\n",
       "      <th>유천2동</th>\n",
       "      <td>1</td>\n",
       "    </tr>\n",
       "    <tr>\n",
       "      <th>용두동</th>\n",
       "      <td>1</td>\n",
       "    </tr>\n",
       "  </tbody>\n",
       "</table>\n",
       "</div>"
      ],
      "text/plain": [
       "        0\n",
       "온천2동    5\n",
       "온천1동   10\n",
       "구즉동     2\n",
       "진잠동     4\n",
       "원신흥동    1\n",
       "노은2동    1\n",
       "노은3동    1\n",
       "전민동     1\n",
       "노은1동    1\n",
       "비래동     1\n",
       "중리동     3\n",
       "오정동     2\n",
       "회덕동     2\n",
       "덕암동     1\n",
       "대화동     1\n",
       "목상동     1\n",
       "법2동     1\n",
       "법1동     1\n",
       "홍도동     2\n",
       "판암1동    1\n",
       "자양동     1\n",
       "신인동     1\n",
       "중앙동     1\n",
       "용운동     3\n",
       "가양2동    2\n",
       "산내동     1\n",
       "삼성동     2\n",
       "판암2동    3\n",
       "둔산3동    1\n",
       "탄방동     1\n",
       "정림동     2\n",
       "가장동     2\n",
       "용문동     2\n",
       "괴정동     1\n",
       "둔산2동    1\n",
       "갈마2동    3\n",
       "가수원동    1\n",
       "도마1동    2\n",
       "도마2동    1\n",
       "월평2동    1\n",
       "관저2동    1\n",
       "월평1동    1\n",
       "문화2동    1\n",
       "유천1동    2\n",
       "은행선화동   7\n",
       "산성동     3\n",
       "문화1동    1\n",
       "대사동     1\n",
       "대흥동     3\n",
       "석교동     3\n",
       "문창동     1\n",
       "유천2동    1\n",
       "용두동     1"
      ]
     },
     "execution_count": 170,
     "metadata": {},
     "output_type": "execute_result"
    }
   ],
   "source": [
    "pd.Series(d_dict).to_frame()"
   ]
  },
  {
   "cell_type": "code",
   "execution_count": null,
   "metadata": {},
   "outputs": [],
   "source": []
  }
 ],
 "metadata": {
  "kernelspec": {
   "display_name": "Python 3",
   "language": "python",
   "name": "python3"
  },
  "language_info": {
   "codemirror_mode": {
    "name": "ipython",
    "version": 3
   },
   "file_extension": ".py",
   "mimetype": "text/x-python",
   "name": "python",
   "nbconvert_exporter": "python",
   "pygments_lexer": "ipython3",
   "version": "3.6.8"
  }
 },
 "nbformat": 4,
 "nbformat_minor": 2
}
